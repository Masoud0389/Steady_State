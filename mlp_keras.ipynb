{
  "nbformat": 4,
  "nbformat_minor": 0,
  "metadata": {
    "colab": {
      "provenance": [],
      "machine_shape": "hm",
      "authorship_tag": "ABX9TyN1MhgDTwCw12cR7lJzl1QR",
      "include_colab_link": true
    },
    "kernelspec": {
      "name": "python3",
      "display_name": "Python 3"
    },
    "language_info": {
      "name": "python"
    },
    "accelerator": "TPU",
    "gpuClass": "standard"
  },
  "cells": [
    {
      "cell_type": "markdown",
      "metadata": {
        "id": "view-in-github",
        "colab_type": "text"
      },
      "source": [
        "<a href=\"https://colab.research.google.com/github/Masoud0389/Steady_State/blob/main/mlp_keras.ipynb\" target=\"_parent\"><img src=\"https://colab.research.google.com/assets/colab-badge.svg\" alt=\"Open In Colab\"/></a>"
      ]
    },
    {
      "cell_type": "code",
      "source": [
        "#pip install git+https://github.com/Kaggle/learntools.git"
      ],
      "metadata": {
        "id": "PrCJ8SVpE0jO"
      },
      "execution_count": 178,
      "outputs": []
    },
    {
      "cell_type": "code",
      "execution_count": 179,
      "metadata": {
        "colab": {
          "base_uri": "https://localhost:8080/"
        },
        "id": "T9fbetfR4kR9",
        "outputId": "f9f1611b-ad06-4e35-f470-692ad4095e7a"
      },
      "outputs": [
        {
          "output_type": "stream",
          "name": "stderr",
          "text": [
            "WARNING:root:Ignoring repeated attempt to bind to globals\n"
          ]
        }
      ],
      "source": [
        "# Setup plotting\n",
        "import matplotlib.pyplot as plt\n",
        "import seaborn as sns\n",
        "plt.style.use('seaborn-whitegrid')\n",
        "# Set Matplotlib defaults\n",
        "plt.rc('figure', autolayout=True)\n",
        "plt.rc('axes', labelweight='bold', labelsize='large',\n",
        "       titleweight='bold', titlesize=18, titlepad=10)\n",
        "plt.rc('animation', html='html5')\n",
        "\n",
        "# Setup feedback system\n",
        "\n",
        "from learntools.core import binder\n",
        "binder.bind(globals())\n",
        "from learntools.deep_learning_intro.ex6 import *"
      ]
    },
    {
      "cell_type": "code",
      "source": [
        "import pandas as pd\n",
        "from sklearn.model_selection import train_test_split\n",
        "from sklearn.preprocessing import StandardScaler, OneHotEncoder, normalize\n",
        "from sklearn.impute import SimpleImputer\n",
        "from sklearn.pipeline import make_pipeline\n",
        "from sklearn.compose import make_column_transformer\n",
        "import warnings\n",
        "import numpy as np\n",
        "warnings.filterwarnings('ignore')\n",
        "data = pd.read_csv('DATASET1.csv')\n",
        "#data.info()"
      ],
      "metadata": {
        "id": "akqMuHlM5qPE"
      },
      "execution_count": 180,
      "outputs": []
    },
    {
      "cell_type": "code",
      "source": [
        "data.head(5)"
      ],
      "metadata": {
        "colab": {
          "base_uri": "https://localhost:8080/",
          "height": 300
        },
        "id": "oK2vCWdE9JWx",
        "outputId": "d7499f9d-db4f-4dd1-f9d0-01bdb2a9058a"
      },
      "execution_count": 181,
      "outputs": [
        {
          "output_type": "execute_result",
          "data": {
            "text/plain": [
              "   V1       V2       V3       V4       V5       V6       V7       V8       V9  \\\n",
              "0   1  0.99833  0.99057  0.98682  0.98319  0.97557  0.97521  0.97276  0.97097   \n",
              "1   1  0.99834  0.99066  0.98695  0.98336  0.97583  0.97549  0.97307  0.97131   \n",
              "2   1  0.99834  0.99066  0.98695  0.98335  0.97582  0.97548  0.97306  0.97130   \n",
              "3   1  0.99832  0.99056  0.98681  0.98317  0.97554  0.97518  0.97272  0.97093   \n",
              "4   1  0.99829  0.99037  0.98653  0.98281  0.97497  0.97457  0.97207  0.97020   \n",
              "\n",
              "       V10  ...      V28      V29      V30      V31      V32      V33  \\\n",
              "0  0.96949  ...  0.96900  0.96591  0.96443  0.96483  0.96541  0.96693   \n",
              "1  0.96986  ...  0.96935  0.96630  0.96484  0.96527  0.96584  0.96737   \n",
              "2  0.96985  ...  0.96933  0.96629  0.96483  0.96525  0.96583  0.96736   \n",
              "3  0.96944  ...  0.96896  0.96586  0.96438  0.96478  0.96536  0.96688   \n",
              "4  0.96865  ...  0.96822  0.96503  0.96351  0.96387  0.96443  0.96596   \n",
              "\n",
              "      load  weakdays  season  label  \n",
              "0  0.67977         1       1      0  \n",
              "1  0.67443         1       1      0  \n",
              "2  0.67463         1       1      0  \n",
              "3  0.68036         1       1      0  \n",
              "4  0.69162         1       1      0  \n",
              "\n",
              "[5 rows x 37 columns]"
            ],
            "text/html": [
              "\n",
              "  <div id=\"df-ba6cda64-f412-4d7a-bf59-a1748e3a1040\">\n",
              "    <div class=\"colab-df-container\">\n",
              "      <div>\n",
              "<style scoped>\n",
              "    .dataframe tbody tr th:only-of-type {\n",
              "        vertical-align: middle;\n",
              "    }\n",
              "\n",
              "    .dataframe tbody tr th {\n",
              "        vertical-align: top;\n",
              "    }\n",
              "\n",
              "    .dataframe thead th {\n",
              "        text-align: right;\n",
              "    }\n",
              "</style>\n",
              "<table border=\"1\" class=\"dataframe\">\n",
              "  <thead>\n",
              "    <tr style=\"text-align: right;\">\n",
              "      <th></th>\n",
              "      <th>V1</th>\n",
              "      <th>V2</th>\n",
              "      <th>V3</th>\n",
              "      <th>V4</th>\n",
              "      <th>V5</th>\n",
              "      <th>V6</th>\n",
              "      <th>V7</th>\n",
              "      <th>V8</th>\n",
              "      <th>V9</th>\n",
              "      <th>V10</th>\n",
              "      <th>...</th>\n",
              "      <th>V28</th>\n",
              "      <th>V29</th>\n",
              "      <th>V30</th>\n",
              "      <th>V31</th>\n",
              "      <th>V32</th>\n",
              "      <th>V33</th>\n",
              "      <th>load</th>\n",
              "      <th>weakdays</th>\n",
              "      <th>season</th>\n",
              "      <th>label</th>\n",
              "    </tr>\n",
              "  </thead>\n",
              "  <tbody>\n",
              "    <tr>\n",
              "      <th>0</th>\n",
              "      <td>1</td>\n",
              "      <td>0.99833</td>\n",
              "      <td>0.99057</td>\n",
              "      <td>0.98682</td>\n",
              "      <td>0.98319</td>\n",
              "      <td>0.97557</td>\n",
              "      <td>0.97521</td>\n",
              "      <td>0.97276</td>\n",
              "      <td>0.97097</td>\n",
              "      <td>0.96949</td>\n",
              "      <td>...</td>\n",
              "      <td>0.96900</td>\n",
              "      <td>0.96591</td>\n",
              "      <td>0.96443</td>\n",
              "      <td>0.96483</td>\n",
              "      <td>0.96541</td>\n",
              "      <td>0.96693</td>\n",
              "      <td>0.67977</td>\n",
              "      <td>1</td>\n",
              "      <td>1</td>\n",
              "      <td>0</td>\n",
              "    </tr>\n",
              "    <tr>\n",
              "      <th>1</th>\n",
              "      <td>1</td>\n",
              "      <td>0.99834</td>\n",
              "      <td>0.99066</td>\n",
              "      <td>0.98695</td>\n",
              "      <td>0.98336</td>\n",
              "      <td>0.97583</td>\n",
              "      <td>0.97549</td>\n",
              "      <td>0.97307</td>\n",
              "      <td>0.97131</td>\n",
              "      <td>0.96986</td>\n",
              "      <td>...</td>\n",
              "      <td>0.96935</td>\n",
              "      <td>0.96630</td>\n",
              "      <td>0.96484</td>\n",
              "      <td>0.96527</td>\n",
              "      <td>0.96584</td>\n",
              "      <td>0.96737</td>\n",
              "      <td>0.67443</td>\n",
              "      <td>1</td>\n",
              "      <td>1</td>\n",
              "      <td>0</td>\n",
              "    </tr>\n",
              "    <tr>\n",
              "      <th>2</th>\n",
              "      <td>1</td>\n",
              "      <td>0.99834</td>\n",
              "      <td>0.99066</td>\n",
              "      <td>0.98695</td>\n",
              "      <td>0.98335</td>\n",
              "      <td>0.97582</td>\n",
              "      <td>0.97548</td>\n",
              "      <td>0.97306</td>\n",
              "      <td>0.97130</td>\n",
              "      <td>0.96985</td>\n",
              "      <td>...</td>\n",
              "      <td>0.96933</td>\n",
              "      <td>0.96629</td>\n",
              "      <td>0.96483</td>\n",
              "      <td>0.96525</td>\n",
              "      <td>0.96583</td>\n",
              "      <td>0.96736</td>\n",
              "      <td>0.67463</td>\n",
              "      <td>1</td>\n",
              "      <td>1</td>\n",
              "      <td>0</td>\n",
              "    </tr>\n",
              "    <tr>\n",
              "      <th>3</th>\n",
              "      <td>1</td>\n",
              "      <td>0.99832</td>\n",
              "      <td>0.99056</td>\n",
              "      <td>0.98681</td>\n",
              "      <td>0.98317</td>\n",
              "      <td>0.97554</td>\n",
              "      <td>0.97518</td>\n",
              "      <td>0.97272</td>\n",
              "      <td>0.97093</td>\n",
              "      <td>0.96944</td>\n",
              "      <td>...</td>\n",
              "      <td>0.96896</td>\n",
              "      <td>0.96586</td>\n",
              "      <td>0.96438</td>\n",
              "      <td>0.96478</td>\n",
              "      <td>0.96536</td>\n",
              "      <td>0.96688</td>\n",
              "      <td>0.68036</td>\n",
              "      <td>1</td>\n",
              "      <td>1</td>\n",
              "      <td>0</td>\n",
              "    </tr>\n",
              "    <tr>\n",
              "      <th>4</th>\n",
              "      <td>1</td>\n",
              "      <td>0.99829</td>\n",
              "      <td>0.99037</td>\n",
              "      <td>0.98653</td>\n",
              "      <td>0.98281</td>\n",
              "      <td>0.97497</td>\n",
              "      <td>0.97457</td>\n",
              "      <td>0.97207</td>\n",
              "      <td>0.97020</td>\n",
              "      <td>0.96865</td>\n",
              "      <td>...</td>\n",
              "      <td>0.96822</td>\n",
              "      <td>0.96503</td>\n",
              "      <td>0.96351</td>\n",
              "      <td>0.96387</td>\n",
              "      <td>0.96443</td>\n",
              "      <td>0.96596</td>\n",
              "      <td>0.69162</td>\n",
              "      <td>1</td>\n",
              "      <td>1</td>\n",
              "      <td>0</td>\n",
              "    </tr>\n",
              "  </tbody>\n",
              "</table>\n",
              "<p>5 rows × 37 columns</p>\n",
              "</div>\n",
              "      <button class=\"colab-df-convert\" onclick=\"convertToInteractive('df-ba6cda64-f412-4d7a-bf59-a1748e3a1040')\"\n",
              "              title=\"Convert this dataframe to an interactive table.\"\n",
              "              style=\"display:none;\">\n",
              "        \n",
              "  <svg xmlns=\"http://www.w3.org/2000/svg\" height=\"24px\"viewBox=\"0 0 24 24\"\n",
              "       width=\"24px\">\n",
              "    <path d=\"M0 0h24v24H0V0z\" fill=\"none\"/>\n",
              "    <path d=\"M18.56 5.44l.94 2.06.94-2.06 2.06-.94-2.06-.94-.94-2.06-.94 2.06-2.06.94zm-11 1L8.5 8.5l.94-2.06 2.06-.94-2.06-.94L8.5 2.5l-.94 2.06-2.06.94zm10 10l.94 2.06.94-2.06 2.06-.94-2.06-.94-.94-2.06-.94 2.06-2.06.94z\"/><path d=\"M17.41 7.96l-1.37-1.37c-.4-.4-.92-.59-1.43-.59-.52 0-1.04.2-1.43.59L10.3 9.45l-7.72 7.72c-.78.78-.78 2.05 0 2.83L4 21.41c.39.39.9.59 1.41.59.51 0 1.02-.2 1.41-.59l7.78-7.78 2.81-2.81c.8-.78.8-2.07 0-2.86zM5.41 20L4 18.59l7.72-7.72 1.47 1.35L5.41 20z\"/>\n",
              "  </svg>\n",
              "      </button>\n",
              "      \n",
              "  <style>\n",
              "    .colab-df-container {\n",
              "      display:flex;\n",
              "      flex-wrap:wrap;\n",
              "      gap: 12px;\n",
              "    }\n",
              "\n",
              "    .colab-df-convert {\n",
              "      background-color: #E8F0FE;\n",
              "      border: none;\n",
              "      border-radius: 50%;\n",
              "      cursor: pointer;\n",
              "      display: none;\n",
              "      fill: #1967D2;\n",
              "      height: 32px;\n",
              "      padding: 0 0 0 0;\n",
              "      width: 32px;\n",
              "    }\n",
              "\n",
              "    .colab-df-convert:hover {\n",
              "      background-color: #E2EBFA;\n",
              "      box-shadow: 0px 1px 2px rgba(60, 64, 67, 0.3), 0px 1px 3px 1px rgba(60, 64, 67, 0.15);\n",
              "      fill: #174EA6;\n",
              "    }\n",
              "\n",
              "    [theme=dark] .colab-df-convert {\n",
              "      background-color: #3B4455;\n",
              "      fill: #D2E3FC;\n",
              "    }\n",
              "\n",
              "    [theme=dark] .colab-df-convert:hover {\n",
              "      background-color: #434B5C;\n",
              "      box-shadow: 0px 1px 3px 1px rgba(0, 0, 0, 0.15);\n",
              "      filter: drop-shadow(0px 1px 2px rgba(0, 0, 0, 0.3));\n",
              "      fill: #FFFFFF;\n",
              "    }\n",
              "  </style>\n",
              "\n",
              "      <script>\n",
              "        const buttonEl =\n",
              "          document.querySelector('#df-ba6cda64-f412-4d7a-bf59-a1748e3a1040 button.colab-df-convert');\n",
              "        buttonEl.style.display =\n",
              "          google.colab.kernel.accessAllowed ? 'block' : 'none';\n",
              "\n",
              "        async function convertToInteractive(key) {\n",
              "          const element = document.querySelector('#df-ba6cda64-f412-4d7a-bf59-a1748e3a1040');\n",
              "          const dataTable =\n",
              "            await google.colab.kernel.invokeFunction('convertToInteractive',\n",
              "                                                     [key], {});\n",
              "          if (!dataTable) return;\n",
              "\n",
              "          const docLinkHtml = 'Like what you see? Visit the ' +\n",
              "            '<a target=\"_blank\" href=https://colab.research.google.com/notebooks/data_table.ipynb>data table notebook</a>'\n",
              "            + ' to learn more about interactive tables.';\n",
              "          element.innerHTML = '';\n",
              "          dataTable['output_type'] = 'display_data';\n",
              "          await google.colab.output.renderOutput(dataTable, element);\n",
              "          const docLink = document.createElement('div');\n",
              "          docLink.innerHTML = docLinkHtml;\n",
              "          element.appendChild(docLink);\n",
              "        }\n",
              "      </script>\n",
              "    </div>\n",
              "  </div>\n",
              "  "
            ]
          },
          "metadata": {},
          "execution_count": 181
        }
      ]
    },
    {
      "cell_type": "code",
      "source": [
        "#data.isna().sum()"
      ],
      "metadata": {
        "id": "GLw42qOY9dWP"
      },
      "execution_count": 182,
      "outputs": []
    },
    {
      "cell_type": "code",
      "source": [
        "#data.season.value_counts()/96"
      ],
      "metadata": {
        "id": "hTABk1219nRR"
      },
      "execution_count": 183,
      "outputs": []
    },
    {
      "cell_type": "code",
      "source": [
        "g = sns.countplot(data['season'])\n",
        "g.set_xticklabels(['Winter','Spring', 'Summer', 'Fall'])\n",
        "plt.show()"
      ],
      "metadata": {
        "colab": {
          "base_uri": "https://localhost:8080/",
          "height": 297
        },
        "id": "bKXldyml-H_q",
        "outputId": "88517cd2-da94-4598-d3f0-b71d33341f83"
      },
      "execution_count": 184,
      "outputs": [
        {
          "output_type": "display_data",
          "data": {
            "text/plain": [
              "<Figure size 432x288 with 1 Axes>"
            ],
            "image/png": "[encoded data removed]"
          },
          "metadata": {}
        }
      ]
    },
    {
      "cell_type": "code",
      "source": [
        "X = data.iloc[:, :-1]\n",
        "y = data.iloc[:, -1]\n",
        "X = StandardScaler().fit_transform(X)\n",
        "X = normalize(X, norm=\"max\")"
      ],
      "metadata": {
        "id": "4KmJqusq-jr1"
      },
      "execution_count": 185,
      "outputs": []
    },
    {
      "cell_type": "code",
      "source": [
        "# stratify - make sure classes are evenlly represented across splits\n",
        "X_train, X_valid, y_train, y_valid = \\\n",
        "    train_test_split(X, y, stratify=y, train_size=0.7)\n",
        "input_shape = [X_train.shape[1]]"
      ],
      "metadata": {
        "id": "haEhLKQw-yIO"
      },
      "execution_count": 186,
      "outputs": []
    },
    {
      "cell_type": "code",
      "source": [
        "from tensorflow import keras\n",
        "from keras import layers\n",
        "model = keras.Sequential([\n",
        "    layers.BatchNormalization(input_shape=input_shape),\n",
        "    layers.Dense(100, activation='relu'),\n",
        "    layers.BatchNormalization(),\n",
        "    layers.Dropout(0.3),\n",
        "    layers.Dense(50, activation='relu'), \n",
        "    layers.BatchNormalization(),\n",
        "    layers.Dropout(0.3),\n",
        "    layers.Dense(1, activation='sigmoid'),\n",
        "])"
      ],
      "metadata": {
        "id": "WSTKAX1n_i3h"
      },
      "execution_count": 187,
      "outputs": []
    },
    {
      "cell_type": "code",
      "source": [
        "model.compile(\n",
        "    optimizer='adam',\n",
        "    loss='binary_crossentropy',\n",
        "    metrics=['binary_accuracy'],\n",
        ")"
      ],
      "metadata": {
        "id": "8E5tV9QW_tsN"
      },
      "execution_count": 188,
      "outputs": []
    },
    {
      "cell_type": "code",
      "source": [
        "early_stopping = keras.callbacks.EarlyStopping(\n",
        "    patience=5,\n",
        "    min_delta=0.0001,\n",
        "    restore_best_weights=True,\n",
        ")"
      ],
      "metadata": {
        "id": "1lMnCobI_w4x"
      },
      "execution_count": 189,
      "outputs": []
    },
    {
      "cell_type": "code",
      "source": [
        "history = model.fit(\n",
        "    X_train, y_train,\n",
        "    validation_data=(X_valid, y_valid),\n",
        "    batch_size=512,\n",
        "    epochs=200,\n",
        "    callbacks=[early_stopping],\n",
        ")"
      ],
      "metadata": {
        "colab": {
          "base_uri": "https://localhost:8080/"
        },
        "id": "UCQFP1aD_2KC",
        "outputId": "f1ef565d-20f0-459a-f5b8-0f6fc8e3b8c3"
      },
      "execution_count": 190,
      "outputs": [
        {
          "output_type": "stream",
          "name": "stdout",
          "text": [
            "Epoch 1/200\n",
            "96/96 [==============================] - 2s 10ms/step - loss: 0.5110 - binary_accuracy: 0.7087 - val_loss: 0.5203 - val_binary_accuracy: 0.7288\n",
            "Epoch 2/200\n",
            "96/96 [==============================] - 1s 8ms/step - loss: 0.4440 - binary_accuracy: 0.7239 - val_loss: 0.4573 - val_binary_accuracy: 0.7283\n",
            "Epoch 3/200\n",
            "96/96 [==============================] - 1s 8ms/step - loss: 0.4258 - binary_accuracy: 0.7282 - val_loss: 0.4248 - val_binary_accuracy: 0.7298\n",
            "Epoch 4/200\n",
            "96/96 [==============================] - 1s 8ms/step - loss: 0.4159 - binary_accuracy: 0.7282 - val_loss: 0.4123 - val_binary_accuracy: 0.7270\n",
            "Epoch 5/200\n",
            "96/96 [==============================] - 1s 8ms/step - loss: 0.4120 - binary_accuracy: 0.7279 - val_loss: 0.4070 - val_binary_accuracy: 0.7275\n",
            "Epoch 6/200\n",
            "96/96 [==============================] - 1s 8ms/step - loss: 0.4107 - binary_accuracy: 0.7263 - val_loss: 0.3995 - val_binary_accuracy: 0.7269\n",
            "Epoch 7/200\n",
            "96/96 [==============================] - 1s 8ms/step - loss: 0.4067 - binary_accuracy: 0.7291 - val_loss: 0.3971 - val_binary_accuracy: 0.7271\n",
            "Epoch 8/200\n",
            "96/96 [==============================] - 1s 8ms/step - loss: 0.4045 - binary_accuracy: 0.7297 - val_loss: 0.3921 - val_binary_accuracy: 0.7275\n",
            "Epoch 9/200\n",
            "96/96 [==============================] - 1s 8ms/step - loss: 0.4044 - binary_accuracy: 0.7243 - val_loss: 0.3909 - val_binary_accuracy: 0.7284\n",
            "Epoch 10/200\n",
            "96/96 [==============================] - 1s 8ms/step - loss: 0.4030 - binary_accuracy: 0.7261 - val_loss: 0.4067 - val_binary_accuracy: 0.7258\n",
            "Epoch 11/200\n",
            "96/96 [==============================] - 1s 8ms/step - loss: 0.4010 - binary_accuracy: 0.7265 - val_loss: 0.3925 - val_binary_accuracy: 0.7270\n",
            "Epoch 12/200\n",
            "96/96 [==============================] - 1s 8ms/step - loss: 0.4002 - binary_accuracy: 0.7272 - val_loss: 0.3909 - val_binary_accuracy: 0.7264\n",
            "Epoch 13/200\n",
            "96/96 [==============================] - 1s 8ms/step - loss: 0.3998 - binary_accuracy: 0.7258 - val_loss: 0.3937 - val_binary_accuracy: 0.7310\n",
            "Epoch 14/200\n",
            "96/96 [==============================] - 1s 8ms/step - loss: 0.3992 - binary_accuracy: 0.7252 - val_loss: 0.3897 - val_binary_accuracy: 0.7281\n",
            "Epoch 15/200\n",
            "96/96 [==============================] - 1s 8ms/step - loss: 0.3983 - binary_accuracy: 0.7271 - val_loss: 0.3935 - val_binary_accuracy: 0.7286\n",
            "Epoch 16/200\n",
            "96/96 [==============================] - 1s 8ms/step - loss: 0.3977 - binary_accuracy: 0.7257 - val_loss: 0.3869 - val_binary_accuracy: 0.7300\n",
            "Epoch 17/200\n",
            "96/96 [==============================] - 1s 8ms/step - loss: 0.3966 - binary_accuracy: 0.7267 - val_loss: 0.3879 - val_binary_accuracy: 0.7275\n",
            "Epoch 18/200\n",
            "96/96 [==============================] - 1s 8ms/step - loss: 0.3970 - binary_accuracy: 0.7269 - val_loss: 0.3880 - val_binary_accuracy: 0.7290\n",
            "Epoch 19/200\n",
            "96/96 [==============================] - 1s 8ms/step - loss: 0.3961 - binary_accuracy: 0.7296 - val_loss: 0.3864 - val_binary_accuracy: 0.7294\n",
            "Epoch 20/200\n",
            "96/96 [==============================] - 1s 8ms/step - loss: 0.3945 - binary_accuracy: 0.7279 - val_loss: 0.3874 - val_binary_accuracy: 0.7266\n",
            "Epoch 21/200\n",
            "96/96 [==============================] - 1s 8ms/step - loss: 0.3952 - binary_accuracy: 0.7274 - val_loss: 0.3951 - val_binary_accuracy: 0.7271\n",
            "Epoch 22/200\n",
            "96/96 [==============================] - 1s 8ms/step - loss: 0.3936 - binary_accuracy: 0.7290 - val_loss: 0.3849 - val_binary_accuracy: 0.7278\n",
            "Epoch 23/200\n",
            "96/96 [==============================] - 1s 8ms/step - loss: 0.3946 - binary_accuracy: 0.7271 - val_loss: 0.3868 - val_binary_accuracy: 0.7275\n",
            "Epoch 24/200\n",
            "96/96 [==============================] - 1s 8ms/step - loss: 0.3933 - binary_accuracy: 0.7303 - val_loss: 0.3866 - val_binary_accuracy: 0.7281\n",
            "Epoch 25/200\n",
            "96/96 [==============================] - 1s 8ms/step - loss: 0.3934 - binary_accuracy: 0.7248 - val_loss: 0.3852 - val_binary_accuracy: 0.7278\n",
            "Epoch 26/200\n",
            "96/96 [==============================] - 1s 8ms/step - loss: 0.3940 - binary_accuracy: 0.7319 - val_loss: 0.3853 - val_binary_accuracy: 0.7275\n",
            "Epoch 27/200\n",
            "96/96 [==============================] - 1s 8ms/step - loss: 0.3921 - binary_accuracy: 0.7276 - val_loss: 0.3862 - val_binary_accuracy: 0.7291\n"
          ]
        }
      ]
    },
    {
      "cell_type": "code",
      "source": [
        "history_df = pd.DataFrame(history.history)\n",
        "history_df.loc[:, ['loss', 'val_loss']].plot(title=\"Cross-entropy\")\n",
        "history_df.loc[:, ['binary_accuracy', 'val_binary_accuracy']].plot(title=\"Accuracy\")\n",
        "y_pred = model.predict(X_valid).round()"
      ],
      "metadata": {
        "colab": {
          "base_uri": "https://localhost:8080/",
          "height": 594
        },
        "id": "POpK_rfU_-Jm",
        "outputId": "d04a0923-58e9-4e54-d089-100ac629bbaa"
      },
      "execution_count": 191,
      "outputs": [
        {
          "output_type": "stream",
          "name": "stdout",
          "text": [
            "657/657 [==============================] - 1s 985us/step\n"
          ]
        },
        {
          "output_type": "display_data",
          "data": {
            "text/plain": [
              "<Figure size 432x288 with 1 Axes>"
            ],
            "image/png": "[encoded data removed]"
          },
          "metadata": {}
        },
        {
          "output_type": "display_data",
          "data": {
            "text/plain": [
              "<Figure size 432x288 with 1 Axes>"
            ],
            "image/png": "[encoded data removed]"
          },
          "metadata": {}
        }
      ]
    },
    {
      "cell_type": "code",
      "source": [
        "#pip install tensorflow-addons"
      ],
      "metadata": {
        "id": "rJmf17swKn5V"
      },
      "execution_count": 192,
      "outputs": []
    },
    {
      "cell_type": "code",
      "source": [
        "from sklearn.metrics import confusion_matrix\n",
        "from sklearn.metrics import precision_score, recall_score, f1_score, accuracy_score\n",
        "conf_matrix = confusion_matrix(y_true=y_valid, y_pred=y_pred)\n",
        "fig, ax = plt.subplots(figsize=(5, 5))\n",
        "ax.matshow(conf_matrix, cmap=plt.cm.Oranges, alpha=0.3)\n",
        "for i in range(conf_matrix.shape[0]):\n",
        "    for j in range(conf_matrix.shape[1]):\n",
        "        ax.text(x=j, y=i,s=conf_matrix[i, j], va='center', ha='center', size='xx-large')\n",
        " \n",
        "plt.xlabel('Predictions', fontsize=18)\n",
        "plt.ylabel('Actuals', fontsize=18)\n",
        "plt.title('Confusion Matrix', fontsize=18)\n",
        "plt.show()"
      ],
      "metadata": {
        "colab": {
          "base_uri": "https://localhost:8080/",
          "height": 370
        },
        "id": "L0b8WXvSVV3G",
        "outputId": "2e83a81c-d036-484e-d017-11b02e34e9e9"
      },
      "execution_count": 193,
      "outputs": [
        {
          "output_type": "display_data",
          "data": {
            "text/plain": [
              "<Figure size 360x360 with 1 Axes>"
            ],
            "image/png": "[encoded data removed]"
          },
          "metadata": {}
        }
      ]
    },
    {
      "cell_type": "code",
      "source": [
        "print(f\"f1_score is:{f1_score(y_valid, y_pred, average='binary')}\\n accuracy_score is: {accuracy_score(y_valid, y_pred)}\\n precision is: {precision_score(y_valid, y_pred)}\\n recal is: {recall_score(y_valid, y_pred)}\") "
      ],
      "metadata": {
        "colab": {
          "base_uri": "https://localhost:8080/"
        },
        "id": "FJtFeiFvNAG_",
        "outputId": "ed2b9b39-d3e2-4692-a577-597011af813e"
      },
      "execution_count": 194,
      "outputs": [
        {
          "output_type": "stream",
          "name": "stdout",
          "text": [
            "f1_score is:0.7792608595015815\n",
            " accuracy_score is: 0.7278348554033486\n",
            " precision is: 0.6554185593770279\n",
            " recal is: 0.960806697108067\n"
          ]
        }
      ]
    }
  ]
}