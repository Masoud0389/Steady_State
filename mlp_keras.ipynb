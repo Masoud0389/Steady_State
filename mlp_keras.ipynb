{
  "nbformat": 4,
  "nbformat_minor": 0,
  "metadata": {
    "colab": {
      "provenance": [],
      "machine_shape": "hm",
      "authorship_tag": "ABX9TyOjrQRyxq1jLomQqZaL9RS6",
      "include_colab_link": true
    },
    "kernelspec": {
      "name": "python3",
      "display_name": "Python 3"
    },
    "language_info": {
      "name": "python"
    },
    "accelerator": "TPU",
    "gpuClass": "standard"
  },
  "cells": [
    {
      "cell_type": "markdown",
      "metadata": {
        "id": "view-in-github",
        "colab_type": "text"
      },
      "source": [
        "<a href=\"https://colab.research.google.com/github/Masoud0389/Steady_State/blob/main/mlp_keras.ipynb\" target=\"_parent\"><img src=\"https://colab.research.google.com/assets/colab-badge.svg\" alt=\"Open In Colab\"/></a>"
      ]
    },
    {
      "cell_type": "code",
      "source": [
        "#pip install git+https://github.com/Kaggle/learntools.git"
      ],
      "metadata": {
        "id": "PrCJ8SVpE0jO"
      },
      "execution_count": 141,
      "outputs": []
    },
    {
      "cell_type": "code",
      "execution_count": 142,
      "metadata": {
        "colab": {
          "base_uri": "https://localhost:8080/"
        },
        "id": "T9fbetfR4kR9",
        "outputId": "06abdeef-30b4-43ca-fe80-220c0fa28919"
      },
      "outputs": [
        {
          "output_type": "stream",
          "name": "stderr",
          "text": [
            "WARNING:root:Ignoring repeated attempt to bind to globals\n"
          ]
        }
      ],
      "source": [
        "# Setup plotting\n",
        "import matplotlib.pyplot as plt\n",
        "import seaborn as sns\n",
        "plt.style.use('seaborn-whitegrid')\n",
        "# Set Matplotlib defaults\n",
        "plt.rc('figure', autolayout=True)\n",
        "plt.rc('axes', labelweight='bold', labelsize='large',\n",
        "       titleweight='bold', titlesize=18, titlepad=10)\n",
        "plt.rc('animation', html='html5')\n",
        "\n",
        "# Setup feedback system\n",
        "\n",
        "from learntools.core import binder\n",
        "binder.bind(globals())\n",
        "from learntools.deep_learning_intro.ex6 import *"
      ]
    },
    {
      "cell_type": "code",
      "source": [
        "import pandas as pd\n",
        "from sklearn.model_selection import train_test_split\n",
        "from sklearn.preprocessing import StandardScaler, OneHotEncoder\n",
        "from sklearn.impute import SimpleImputer\n",
        "from sklearn.pipeline import make_pipeline\n",
        "from sklearn.compose import make_column_transformer\n",
        "import warnings\n",
        "import numpy as np\n",
        "warnings.filterwarnings('ignore')\n",
        "data = pd.read_csv('DATASET1.csv')\n",
        "#data.info()"
      ],
      "metadata": {
        "id": "akqMuHlM5qPE"
      },
      "execution_count": 143,
      "outputs": []
    },
    {
      "cell_type": "code",
      "source": [
        "data.head(5)"
      ],
      "metadata": {
        "colab": {
          "base_uri": "https://localhost:8080/",
          "height": 300
        },
        "id": "oK2vCWdE9JWx",
        "outputId": "6387b78c-a62d-425a-8855-ed9395144191"
      },
      "execution_count": 144,
      "outputs": [
        {
          "output_type": "execute_result",
          "data": {
            "text/plain": [
              "   V1       V2       V3       V4       V5       V6       V7       V8       V9  \\\n",
              "0   1  0.99833  0.99057  0.98682  0.98319  0.97557  0.97521  0.97276  0.97097   \n",
              "1   1  0.99834  0.99066  0.98695  0.98336  0.97583  0.97549  0.97307  0.97131   \n",
              "2   1  0.99834  0.99066  0.98695  0.98335  0.97582  0.97548  0.97306  0.97130   \n",
              "3   1  0.99832  0.99056  0.98681  0.98317  0.97554  0.97518  0.97272  0.97093   \n",
              "4   1  0.99829  0.99037  0.98653  0.98281  0.97497  0.97457  0.97207  0.97020   \n",
              "\n",
              "       V10  ...      V28      V29      V30      V31      V32      V33  \\\n",
              "0  0.96949  ...  0.96900  0.96591  0.96443  0.96483  0.96541  0.96693   \n",
              "1  0.96986  ...  0.96935  0.96630  0.96484  0.96527  0.96584  0.96737   \n",
              "2  0.96985  ...  0.96933  0.96629  0.96483  0.96525  0.96583  0.96736   \n",
              "3  0.96944  ...  0.96896  0.96586  0.96438  0.96478  0.96536  0.96688   \n",
              "4  0.96865  ...  0.96822  0.96503  0.96351  0.96387  0.96443  0.96596   \n",
              "\n",
              "      load  weakdays  season  label  \n",
              "0  0.67977         1       1      0  \n",
              "1  0.67443         1       1      0  \n",
              "2  0.67463         1       1      0  \n",
              "3  0.68036         1       1      0  \n",
              "4  0.69162         1       1      0  \n",
              "\n",
              "[5 rows x 37 columns]"
            ],
            "text/html": [
              "\n",
              "  <div id=\"df-5d2bb9b3-149e-4ee4-835b-2417bf56c2e9\">\n",
              "    <div class=\"colab-df-container\">\n",
              "      <div>\n",
              "<style scoped>\n",
              "    .dataframe tbody tr th:only-of-type {\n",
              "        vertical-align: middle;\n",
              "    }\n",
              "\n",
              "    .dataframe tbody tr th {\n",
              "        vertical-align: top;\n",
              "    }\n",
              "\n",
              "    .dataframe thead th {\n",
              "        text-align: right;\n",
              "    }\n",
              "</style>\n",
              "<table border=\"1\" class=\"dataframe\">\n",
              "  <thead>\n",
              "    <tr style=\"text-align: right;\">\n",
              "      <th></th>\n",
              "      <th>V1</th>\n",
              "      <th>V2</th>\n",
              "      <th>V3</th>\n",
              "      <th>V4</th>\n",
              "      <th>V5</th>\n",
              "      <th>V6</th>\n",
              "      <th>V7</th>\n",
              "      <th>V8</th>\n",
              "      <th>V9</th>\n",
              "      <th>V10</th>\n",
              "      <th>...</th>\n",
              "      <th>V28</th>\n",
              "      <th>V29</th>\n",
              "      <th>V30</th>\n",
              "      <th>V31</th>\n",
              "      <th>V32</th>\n",
              "      <th>V33</th>\n",
              "      <th>load</th>\n",
              "      <th>weakdays</th>\n",
              "      <th>season</th>\n",
              "      <th>label</th>\n",
              "    </tr>\n",
              "  </thead>\n",
              "  <tbody>\n",
              "    <tr>\n",
              "      <th>0</th>\n",
              "      <td>1</td>\n",
              "      <td>0.99833</td>\n",
              "      <td>0.99057</td>\n",
              "      <td>0.98682</td>\n",
              "      <td>0.98319</td>\n",
              "      <td>0.97557</td>\n",
              "      <td>0.97521</td>\n",
              "      <td>0.97276</td>\n",
              "      <td>0.97097</td>\n",
              "      <td>0.96949</td>\n",
              "      <td>...</td>\n",
              "      <td>0.96900</td>\n",
              "      <td>0.96591</td>\n",
              "      <td>0.96443</td>\n",
              "      <td>0.96483</td>\n",
              "      <td>0.96541</td>\n",
              "      <td>0.96693</td>\n",
              "      <td>0.67977</td>\n",
              "      <td>1</td>\n",
              "      <td>1</td>\n",
              "      <td>0</td>\n",
              "    </tr>\n",
              "    <tr>\n",
              "      <th>1</th>\n",
              "      <td>1</td>\n",
              "      <td>0.99834</td>\n",
              "      <td>0.99066</td>\n",
              "      <td>0.98695</td>\n",
              "      <td>0.98336</td>\n",
              "      <td>0.97583</td>\n",
              "      <td>0.97549</td>\n",
              "      <td>0.97307</td>\n",
              "      <td>0.97131</td>\n",
              "      <td>0.96986</td>\n",
              "      <td>...</td>\n",
              "      <td>0.96935</td>\n",
              "      <td>0.96630</td>\n",
              "      <td>0.96484</td>\n",
              "      <td>0.96527</td>\n",
              "      <td>0.96584</td>\n",
              "      <td>0.96737</td>\n",
              "      <td>0.67443</td>\n",
              "      <td>1</td>\n",
              "      <td>1</td>\n",
              "      <td>0</td>\n",
              "    </tr>\n",
              "    <tr>\n",
              "      <th>2</th>\n",
              "      <td>1</td>\n",
              "      <td>0.99834</td>\n",
              "      <td>0.99066</td>\n",
              "      <td>0.98695</td>\n",
              "      <td>0.98335</td>\n",
              "      <td>0.97582</td>\n",
              "      <td>0.97548</td>\n",
              "      <td>0.97306</td>\n",
              "      <td>0.97130</td>\n",
              "      <td>0.96985</td>\n",
              "      <td>...</td>\n",
              "      <td>0.96933</td>\n",
              "      <td>0.96629</td>\n",
              "      <td>0.96483</td>\n",
              "      <td>0.96525</td>\n",
              "      <td>0.96583</td>\n",
              "      <td>0.96736</td>\n",
              "      <td>0.67463</td>\n",
              "      <td>1</td>\n",
              "      <td>1</td>\n",
              "      <td>0</td>\n",
              "    </tr>\n",
              "    <tr>\n",
              "      <th>3</th>\n",
              "      <td>1</td>\n",
              "      <td>0.99832</td>\n",
              "      <td>0.99056</td>\n",
              "      <td>0.98681</td>\n",
              "      <td>0.98317</td>\n",
              "      <td>0.97554</td>\n",
              "      <td>0.97518</td>\n",
              "      <td>0.97272</td>\n",
              "      <td>0.97093</td>\n",
              "      <td>0.96944</td>\n",
              "      <td>...</td>\n",
              "      <td>0.96896</td>\n",
              "      <td>0.96586</td>\n",
              "      <td>0.96438</td>\n",
              "      <td>0.96478</td>\n",
              "      <td>0.96536</td>\n",
              "      <td>0.96688</td>\n",
              "      <td>0.68036</td>\n",
              "      <td>1</td>\n",
              "      <td>1</td>\n",
              "      <td>0</td>\n",
              "    </tr>\n",
              "    <tr>\n",
              "      <th>4</th>\n",
              "      <td>1</td>\n",
              "      <td>0.99829</td>\n",
              "      <td>0.99037</td>\n",
              "      <td>0.98653</td>\n",
              "      <td>0.98281</td>\n",
              "      <td>0.97497</td>\n",
              "      <td>0.97457</td>\n",
              "      <td>0.97207</td>\n",
              "      <td>0.97020</td>\n",
              "      <td>0.96865</td>\n",
              "      <td>...</td>\n",
              "      <td>0.96822</td>\n",
              "      <td>0.96503</td>\n",
              "      <td>0.96351</td>\n",
              "      <td>0.96387</td>\n",
              "      <td>0.96443</td>\n",
              "      <td>0.96596</td>\n",
              "      <td>0.69162</td>\n",
              "      <td>1</td>\n",
              "      <td>1</td>\n",
              "      <td>0</td>\n",
              "    </tr>\n",
              "  </tbody>\n",
              "</table>\n",
              "<p>5 rows × 37 columns</p>\n",
              "</div>\n",
              "      <button class=\"colab-df-convert\" onclick=\"convertToInteractive('df-5d2bb9b3-149e-4ee4-835b-2417bf56c2e9')\"\n",
              "              title=\"Convert this dataframe to an interactive table.\"\n",
              "              style=\"display:none;\">\n",
              "        \n",
              "  <svg xmlns=\"http://www.w3.org/2000/svg\" height=\"24px\"viewBox=\"0 0 24 24\"\n",
              "       width=\"24px\">\n",
              "    <path d=\"M0 0h24v24H0V0z\" fill=\"none\"/>\n",
              "    <path d=\"M18.56 5.44l.94 2.06.94-2.06 2.06-.94-2.06-.94-.94-2.06-.94 2.06-2.06.94zm-11 1L8.5 8.5l.94-2.06 2.06-.94-2.06-.94L8.5 2.5l-.94 2.06-2.06.94zm10 10l.94 2.06.94-2.06 2.06-.94-2.06-.94-.94-2.06-.94 2.06-2.06.94z\"/><path d=\"M17.41 7.96l-1.37-1.37c-.4-.4-.92-.59-1.43-.59-.52 0-1.04.2-1.43.59L10.3 9.45l-7.72 7.72c-.78.78-.78 2.05 0 2.83L4 21.41c.39.39.9.59 1.41.59.51 0 1.02-.2 1.41-.59l7.78-7.78 2.81-2.81c.8-.78.8-2.07 0-2.86zM5.41 20L4 18.59l7.72-7.72 1.47 1.35L5.41 20z\"/>\n",
              "  </svg>\n",
              "      </button>\n",
              "      \n",
              "  <style>\n",
              "    .colab-df-container {\n",
              "      display:flex;\n",
              "      flex-wrap:wrap;\n",
              "      gap: 12px;\n",
              "    }\n",
              "\n",
              "    .colab-df-convert {\n",
              "      background-color: #E8F0FE;\n",
              "      border: none;\n",
              "      border-radius: 50%;\n",
              "      cursor: pointer;\n",
              "      display: none;\n",
              "      fill: #1967D2;\n",
              "      height: 32px;\n",
              "      padding: 0 0 0 0;\n",
              "      width: 32px;\n",
              "    }\n",
              "\n",
              "    .colab-df-convert:hover {\n",
              "      background-color: #E2EBFA;\n",
              "      box-shadow: 0px 1px 2px rgba(60, 64, 67, 0.3), 0px 1px 3px 1px rgba(60, 64, 67, 0.15);\n",
              "      fill: #174EA6;\n",
              "    }\n",
              "\n",
              "    [theme=dark] .colab-df-convert {\n",
              "      background-color: #3B4455;\n",
              "      fill: #D2E3FC;\n",
              "    }\n",
              "\n",
              "    [theme=dark] .colab-df-convert:hover {\n",
              "      background-color: #434B5C;\n",
              "      box-shadow: 0px 1px 3px 1px rgba(0, 0, 0, 0.15);\n",
              "      filter: drop-shadow(0px 1px 2px rgba(0, 0, 0, 0.3));\n",
              "      fill: #FFFFFF;\n",
              "    }\n",
              "  </style>\n",
              "\n",
              "      <script>\n",
              "        const buttonEl =\n",
              "          document.querySelector('#df-5d2bb9b3-149e-4ee4-835b-2417bf56c2e9 button.colab-df-convert');\n",
              "        buttonEl.style.display =\n",
              "          google.colab.kernel.accessAllowed ? 'block' : 'none';\n",
              "\n",
              "        async function convertToInteractive(key) {\n",
              "          const element = document.querySelector('#df-5d2bb9b3-149e-4ee4-835b-2417bf56c2e9');\n",
              "          const dataTable =\n",
              "            await google.colab.kernel.invokeFunction('convertToInteractive',\n",
              "                                                     [key], {});\n",
              "          if (!dataTable) return;\n",
              "\n",
              "          const docLinkHtml = 'Like what you see? Visit the ' +\n",
              "            '<a target=\"_blank\" href=https://colab.research.google.com/notebooks/data_table.ipynb>data table notebook</a>'\n",
              "            + ' to learn more about interactive tables.';\n",
              "          element.innerHTML = '';\n",
              "          dataTable['output_type'] = 'display_data';\n",
              "          await google.colab.output.renderOutput(dataTable, element);\n",
              "          const docLink = document.createElement('div');\n",
              "          docLink.innerHTML = docLinkHtml;\n",
              "          element.appendChild(docLink);\n",
              "        }\n",
              "      </script>\n",
              "    </div>\n",
              "  </div>\n",
              "  "
            ]
          },
          "metadata": {},
          "execution_count": 144
        }
      ]
    },
    {
      "cell_type": "code",
      "source": [
        "#data.isna().sum()"
      ],
      "metadata": {
        "id": "GLw42qOY9dWP"
      },
      "execution_count": 145,
      "outputs": []
    },
    {
      "cell_type": "code",
      "source": [
        "#data.season.value_counts()/96"
      ],
      "metadata": {
        "id": "hTABk1219nRR"
      },
      "execution_count": 146,
      "outputs": []
    },
    {
      "cell_type": "code",
      "source": [
        "g = sns.countplot(data['season'])\n",
        "g.set_xticklabels(['Winter','Spring', 'Summer', 'Fall'])\n",
        "plt.show()"
      ],
      "metadata": {
        "colab": {
          "base_uri": "https://localhost:8080/",
          "height": 297
        },
        "id": "bKXldyml-H_q",
        "outputId": "a51884cf-5f77-4c42-f2be-bf4547e335d6"
      },
      "execution_count": 147,
      "outputs": [
        {
          "output_type": "display_data",
          "data": {
            "text/plain": [
              "<Figure size 432x288 with 1 Axes>"
            ],
            "image/png": "[encoded data removed]"
          },
          "metadata": {}
        }
      ]
    },
    {
      "cell_type": "code",
      "source": [
        "X = data.iloc[:, :-1]\n",
        "y = data.iloc[:, -1]"
      ],
      "metadata": {
        "id": "4KmJqusq-jr1"
      },
      "execution_count": 148,
      "outputs": []
    },
    {
      "cell_type": "code",
      "source": [
        "# stratify - make sure classes are evenlly represented across splits\n",
        "X_train, X_valid, y_train, y_valid = \\\n",
        "    train_test_split(X, y, stratify=y, train_size=0.7)\n",
        "input_shape = [X_train.shape[1]]"
      ],
      "metadata": {
        "id": "haEhLKQw-yIO"
      },
      "execution_count": 149,
      "outputs": []
    },
    {
      "cell_type": "code",
      "source": [
        "from tensorflow import keras\n",
        "from keras import layers\n",
        "model = keras.Sequential([\n",
        "    layers.BatchNormalization(input_shape=input_shape),\n",
        "    layers.Dense(100, activation='relu'),\n",
        "    layers.BatchNormalization(),\n",
        "    layers.Dropout(0.3),\n",
        "    layers.Dense(50, activation='relu'), \n",
        "    layers.BatchNormalization(),\n",
        "    layers.Dropout(0.3),\n",
        "    layers.Dense(1, activation='sigmoid'),\n",
        "])"
      ],
      "metadata": {
        "id": "WSTKAX1n_i3h"
      },
      "execution_count": 158,
      "outputs": []
    },
    {
      "cell_type": "code",
      "source": [
        "model.compile(\n",
        "    optimizer='adam',\n",
        "    loss='binary_crossentropy',\n",
        "    metrics=['binary_accuracy'],\n",
        ")"
      ],
      "metadata": {
        "id": "8E5tV9QW_tsN"
      },
      "execution_count": 159,
      "outputs": []
    },
    {
      "cell_type": "code",
      "source": [
        "early_stopping = keras.callbacks.EarlyStopping(\n",
        "    patience=5,\n",
        "    min_delta=0.0001,\n",
        "    restore_best_weights=True,\n",
        ")"
      ],
      "metadata": {
        "id": "1lMnCobI_w4x"
      },
      "execution_count": 160,
      "outputs": []
    },
    {
      "cell_type": "code",
      "source": [
        "history = model.fit(\n",
        "    X_train, y_train,\n",
        "    validation_data=(X_valid, y_valid),\n",
        "    batch_size=512,\n",
        "    epochs=200,\n",
        "    callbacks=[early_stopping],\n",
        ")"
      ],
      "metadata": {
        "colab": {
          "base_uri": "https://localhost:8080/"
        },
        "id": "UCQFP1aD_2KC",
        "outputId": "0beafd20-4421-437b-da18-ad5d88b55814"
      },
      "execution_count": 161,
      "outputs": [
        {
          "output_type": "stream",
          "name": "stdout",
          "text": [
            "Epoch 1/200\n",
            "96/96 [==============================] - 2s 10ms/step - loss: 0.5172 - binary_accuracy: 0.7017 - val_loss: 0.6903 - val_binary_accuracy: 0.5000\n",
            "Epoch 2/200\n",
            "96/96 [==============================] - 1s 8ms/step - loss: 0.4317 - binary_accuracy: 0.7241 - val_loss: 0.6798 - val_binary_accuracy: 0.5171\n",
            "Epoch 3/200\n",
            "96/96 [==============================] - 1s 8ms/step - loss: 0.4151 - binary_accuracy: 0.7281 - val_loss: 0.6999 - val_binary_accuracy: 0.5239\n",
            "Epoch 4/200\n",
            "96/96 [==============================] - 1s 8ms/step - loss: 0.4087 - binary_accuracy: 0.7295 - val_loss: 0.6490 - val_binary_accuracy: 0.6050\n",
            "Epoch 5/200\n",
            "96/96 [==============================] - 1s 8ms/step - loss: 0.4062 - binary_accuracy: 0.7274 - val_loss: 0.5747 - val_binary_accuracy: 0.6224\n",
            "Epoch 6/200\n",
            "96/96 [==============================] - 1s 8ms/step - loss: 0.4029 - binary_accuracy: 0.7269 - val_loss: 0.4796 - val_binary_accuracy: 0.6758\n",
            "Epoch 7/200\n",
            "96/96 [==============================] - 1s 8ms/step - loss: 0.4021 - binary_accuracy: 0.7286 - val_loss: 0.4256 - val_binary_accuracy: 0.7143\n",
            "Epoch 8/200\n",
            "96/96 [==============================] - 1s 8ms/step - loss: 0.4016 - binary_accuracy: 0.7270 - val_loss: 0.4000 - val_binary_accuracy: 0.7291\n",
            "Epoch 9/200\n",
            "96/96 [==============================] - 1s 8ms/step - loss: 0.3997 - binary_accuracy: 0.7270 - val_loss: 0.3921 - val_binary_accuracy: 0.7270\n",
            "Epoch 10/200\n",
            "96/96 [==============================] - 1s 8ms/step - loss: 0.3993 - binary_accuracy: 0.7272 - val_loss: 0.3890 - val_binary_accuracy: 0.7274\n",
            "Epoch 11/200\n",
            "96/96 [==============================] - 1s 8ms/step - loss: 0.3982 - binary_accuracy: 0.7270 - val_loss: 0.3882 - val_binary_accuracy: 0.7291\n",
            "Epoch 12/200\n",
            "96/96 [==============================] - 1s 8ms/step - loss: 0.3981 - binary_accuracy: 0.7285 - val_loss: 0.3876 - val_binary_accuracy: 0.7268\n",
            "Epoch 13/200\n",
            "96/96 [==============================] - 1s 8ms/step - loss: 0.3971 - binary_accuracy: 0.7257 - val_loss: 0.3869 - val_binary_accuracy: 0.7269\n",
            "Epoch 14/200\n",
            "96/96 [==============================] - 1s 8ms/step - loss: 0.3959 - binary_accuracy: 0.7278 - val_loss: 0.3882 - val_binary_accuracy: 0.7263\n",
            "Epoch 15/200\n",
            "96/96 [==============================] - 1s 8ms/step - loss: 0.3961 - binary_accuracy: 0.7319 - val_loss: 0.3877 - val_binary_accuracy: 0.7279\n",
            "Epoch 16/200\n",
            "96/96 [==============================] - 1s 8ms/step - loss: 0.3961 - binary_accuracy: 0.7264 - val_loss: 0.3862 - val_binary_accuracy: 0.7281\n",
            "Epoch 17/200\n",
            "96/96 [==============================] - 1s 8ms/step - loss: 0.3943 - binary_accuracy: 0.7292 - val_loss: 0.3863 - val_binary_accuracy: 0.7247\n",
            "Epoch 18/200\n",
            "96/96 [==============================] - 1s 8ms/step - loss: 0.3945 - binary_accuracy: 0.7268 - val_loss: 0.3863 - val_binary_accuracy: 0.7230\n",
            "Epoch 19/200\n",
            "96/96 [==============================] - 1s 8ms/step - loss: 0.3938 - binary_accuracy: 0.7291 - val_loss: 0.3864 - val_binary_accuracy: 0.7255\n",
            "Epoch 20/200\n",
            "96/96 [==============================] - 1s 7ms/step - loss: 0.3941 - binary_accuracy: 0.7291 - val_loss: 0.3912 - val_binary_accuracy: 0.7284\n",
            "Epoch 21/200\n",
            "96/96 [==============================] - 1s 8ms/step - loss: 0.3936 - binary_accuracy: 0.7293 - val_loss: 0.3859 - val_binary_accuracy: 0.7289\n",
            "Epoch 22/200\n",
            "96/96 [==============================] - 1s 8ms/step - loss: 0.3937 - binary_accuracy: 0.7288 - val_loss: 0.3859 - val_binary_accuracy: 0.7303\n",
            "Epoch 23/200\n",
            "96/96 [==============================] - 1s 8ms/step - loss: 0.3934 - binary_accuracy: 0.7256 - val_loss: 0.3882 - val_binary_accuracy: 0.7269\n",
            "Epoch 24/200\n",
            "96/96 [==============================] - 1s 8ms/step - loss: 0.3932 - binary_accuracy: 0.7262 - val_loss: 0.3871 - val_binary_accuracy: 0.7277\n",
            "Epoch 25/200\n",
            "96/96 [==============================] - 1s 8ms/step - loss: 0.3941 - binary_accuracy: 0.7271 - val_loss: 0.3852 - val_binary_accuracy: 0.7267\n",
            "Epoch 26/200\n",
            "96/96 [==============================] - 1s 8ms/step - loss: 0.3938 - binary_accuracy: 0.7273 - val_loss: 0.3852 - val_binary_accuracy: 0.7277\n",
            "Epoch 27/200\n",
            "96/96 [==============================] - 1s 8ms/step - loss: 0.3923 - binary_accuracy: 0.7308 - val_loss: 0.3891 - val_binary_accuracy: 0.7271\n",
            "Epoch 28/200\n",
            "96/96 [==============================] - 1s 8ms/step - loss: 0.3923 - binary_accuracy: 0.7247 - val_loss: 0.3842 - val_binary_accuracy: 0.7243\n",
            "Epoch 29/200\n",
            "96/96 [==============================] - 1s 8ms/step - loss: 0.3922 - binary_accuracy: 0.7244 - val_loss: 0.3868 - val_binary_accuracy: 0.7280\n",
            "Epoch 30/200\n",
            "96/96 [==============================] - 1s 8ms/step - loss: 0.3912 - binary_accuracy: 0.7264 - val_loss: 0.3849 - val_binary_accuracy: 0.7279\n",
            "Epoch 31/200\n",
            "96/96 [==============================] - 1s 8ms/step - loss: 0.3914 - binary_accuracy: 0.7273 - val_loss: 0.3841 - val_binary_accuracy: 0.7273\n",
            "Epoch 32/200\n",
            "96/96 [==============================] - 1s 8ms/step - loss: 0.3913 - binary_accuracy: 0.7289 - val_loss: 0.3855 - val_binary_accuracy: 0.7258\n",
            "Epoch 33/200\n",
            "96/96 [==============================] - 1s 8ms/step - loss: 0.3909 - binary_accuracy: 0.7280 - val_loss: 0.3860 - val_binary_accuracy: 0.7302\n",
            "Epoch 34/200\n",
            "96/96 [==============================] - 1s 8ms/step - loss: 0.3902 - binary_accuracy: 0.7275 - val_loss: 0.3844 - val_binary_accuracy: 0.7300\n",
            "Epoch 35/200\n",
            "96/96 [==============================] - 1s 8ms/step - loss: 0.3906 - binary_accuracy: 0.7289 - val_loss: 0.3836 - val_binary_accuracy: 0.7257\n",
            "Epoch 36/200\n",
            "96/96 [==============================] - 1s 8ms/step - loss: 0.3902 - binary_accuracy: 0.7301 - val_loss: 0.3840 - val_binary_accuracy: 0.7253\n",
            "Epoch 37/200\n",
            "96/96 [==============================] - 1s 8ms/step - loss: 0.3909 - binary_accuracy: 0.7277 - val_loss: 0.3847 - val_binary_accuracy: 0.7318\n",
            "Epoch 38/200\n",
            "96/96 [==============================] - 1s 8ms/step - loss: 0.3910 - binary_accuracy: 0.7279 - val_loss: 0.3846 - val_binary_accuracy: 0.7266\n",
            "Epoch 39/200\n",
            "96/96 [==============================] - 1s 8ms/step - loss: 0.3906 - binary_accuracy: 0.7282 - val_loss: 0.3857 - val_binary_accuracy: 0.7289\n",
            "Epoch 40/200\n",
            "96/96 [==============================] - 1s 8ms/step - loss: 0.3912 - binary_accuracy: 0.7263 - val_loss: 0.3864 - val_binary_accuracy: 0.7297\n"
          ]
        }
      ]
    },
    {
      "cell_type": "code",
      "source": [
        "history_df = pd.DataFrame(history.history)\n",
        "history_df.loc[:, ['loss', 'val_loss']].plot(title=\"Cross-entropy\")\n",
        "history_df.loc[:, ['binary_accuracy', 'val_binary_accuracy']].plot(title=\"Accuracy\")\n",
        "y_pred = model.predict(X_valid).round()"
      ],
      "metadata": {
        "colab": {
          "base_uri": "https://localhost:8080/",
          "height": 594
        },
        "id": "POpK_rfU_-Jm",
        "outputId": "98c873db-a263-4856-e627-6d262f1a1837"
      },
      "execution_count": 162,
      "outputs": [
        {
          "output_type": "stream",
          "name": "stdout",
          "text": [
            "657/657 [==============================] - 1s 1ms/step\n"
          ]
        },
        {
          "output_type": "display_data",
          "data": {
            "text/plain": [
              "<Figure size 432x288 with 1 Axes>"
            ],
            "image/png": "[encoded data removed]"
          },
          "metadata": {}
        },
        {
          "output_type": "display_data",
          "data": {
            "text/plain": [
              "<Figure size 432x288 with 1 Axes>"
            ],
            "image/png": "[encoded data removed]"
          },
          "metadata": {}
        }
      ]
    },
    {
      "cell_type": "code",
      "source": [
        "#pip install tensorflow-addons"
      ],
      "metadata": {
        "id": "rJmf17swKn5V"
      },
      "execution_count": 155,
      "outputs": []
    },
    {
      "cell_type": "code",
      "source": [
        "from sklearn.metrics import confusion_matrix\n",
        "from sklearn.metrics import precision_score, recall_score, f1_score, accuracy_score\n",
        "conf_matrix = confusion_matrix(y_true=y_valid, y_pred=y_pred)\n",
        "fig, ax = plt.subplots(figsize=(5, 5))\n",
        "ax.matshow(conf_matrix, cmap=plt.cm.Oranges, alpha=0.3)\n",
        "for i in range(conf_matrix.shape[0]):\n",
        "    for j in range(conf_matrix.shape[1]):\n",
        "        ax.text(x=j, y=i,s=conf_matrix[i, j], va='center', ha='center', size='xx-large')\n",
        " \n",
        "plt.xlabel('Predictions', fontsize=18)\n",
        "plt.ylabel('Actuals', fontsize=18)\n",
        "plt.title('Confusion Matrix', fontsize=18)\n",
        "plt.show()"
      ],
      "metadata": {
        "colab": {
          "base_uri": "https://localhost:8080/",
          "height": 370
        },
        "id": "L0b8WXvSVV3G",
        "outputId": "b9c14ffb-fedd-4939-d590-29221054db69"
      },
      "execution_count": 163,
      "outputs": [
        {
          "output_type": "display_data",
          "data": {
            "text/plain": [
              "<Figure size 360x360 with 1 Axes>"
            ],
            "image/png": "[encoded data removed]"
          },
          "metadata": {}
        }
      ]
    },
    {
      "cell_type": "code",
      "source": [
        "print(f\"f1_score is:{f1_score(y_valid, y_pred, average='binary')}\\n accuracy_score is: {accuracy_score(y_valid, y_pred)}\\n precision is: {precision_score(y_valid, y_pred)}\\n recal is: {recall_score(y_valid, y_pred)}\") "
      ],
      "metadata": {
        "colab": {
          "base_uri": "https://localhost:8080/"
        },
        "id": "FJtFeiFvNAG_",
        "outputId": "b7f89baf-0df9-4828-80df-2cf9a0694fe0"
      },
      "execution_count": 164,
      "outputs": [
        {
          "output_type": "stream",
          "name": "stdout",
          "text": [
            "f1_score is:0.7694030149146308\n",
            " accuracy_score is: 0.7256944444444444\n",
            " precision is: 0.6636545492170794\n",
            " recal is: 0.9152397260273972\n"
          ]
        }
      ]
    }
  ]
}