{
  "nbformat": 4,
  "nbformat_minor": 0,
  "metadata": {
    "colab": {
      "provenance": [],
      "authorship_tag": "ABX9TyPV/Buz72tvcHGBLRety7Dz",
      "include_colab_link": true
    },
    "kernelspec": {
      "name": "python3",
      "display_name": "Python 3"
    },
    "language_info": {
      "name": "python"
    }
  },
  "cells": [
    {
      "cell_type": "markdown",
      "metadata": {
        "id": "view-in-github",
        "colab_type": "text"
      },
      "source": [
        "<a href=\"https://colab.research.google.com/github/Masoud0389/Steady_State/blob/main/MLP_1.ipynb\" target=\"_parent\"><img src=\"https://colab.research.google.com/assets/colab-badge.svg\" alt=\"Open In Colab\"/></a>"
      ]
    },
    {
      "cell_type": "code",
      "execution_count": 138,
      "metadata": {
        "id": "jvbe-T5eMFje"
      },
      "outputs": [],
      "source": [
        "from sklearn import preprocessing\n",
        "from sklearn.model_selection import train_test_split\n",
        "from sklearn.neural_network import MLPClassifier\n",
        "from sklearn.metrics import accuracy_score\n",
        "import pandas as pd\n",
        "import numpy as np\n",
        "import matplotlib.pyplot as plt\n"
      ]
    },
    {
      "cell_type": "code",
      "source": [
        "data = pd.read_csv(\"DATASET.csv\")\n",
        "data = data.iloc[0:96, :]"
      ],
      "metadata": {
        "id": "wc3TH4hTkXl2"
      },
      "execution_count": 139,
      "outputs": []
    },
    {
      "cell_type": "code",
      "source": [
        "y = np.arange(0, 96)\n",
        "y = y*0\n",
        "for i in range(84, 96):\n",
        "  y[i] = 1\n",
        "y = pd.DataFrame(y)"
      ],
      "metadata": {
        "id": "Ja6ACciwnX4H"
      },
      "execution_count": 140,
      "outputs": []
    },
    {
      "cell_type": "code",
      "source": [
        "from sklearn.model_selection import train_test_split\n",
        "X_train, X_test, y_train, y_test = train_test_split(data, y, test_size = 0.2, random_state = 0)"
      ],
      "metadata": {
        "id": "ppJJENr2oawX"
      },
      "execution_count": 141,
      "outputs": []
    },
    {
      "cell_type": "code",
      "source": [
        "from sklearn.preprocessing import StandardScaler\n",
        "from sklearn.preprocessing import normalize\n",
        "X_train_scaled = normalize(X_train, norm = 'max')\n",
        "X_test_scaled = normalize(X_test, norm = 'max')\n",
        "X_tr = normalize(X_train_scaled, norm = 'max')\n",
        "X_te = normalize(X_test_scaled, norm = 'max')\n",
        "X_te = pd.DataFrame(X_te)\n",
        "X_tr = pd.DataFrame(X_tr)"
      ],
      "metadata": {
        "id": "Kuij6haHp_WM"
      },
      "execution_count": 142,
      "outputs": []
    },
    {
      "cell_type": "code",
      "source": [
        "from sklearn.decomposition import PCA\n",
        "\n",
        "pca = PCA(n_components = 2, whiten= True)\n",
        "X_train_principal = pca.fit_transform(X_tr)\n",
        "X_train_principal = pd.DataFrame(X_tr)\n",
        "X_test_principal = pca.fit_transform(X_te)\n",
        "X_test_principal = pd.DataFrame(X_te)"
      ],
      "metadata": {
        "id": "-OnUlYO2q6uj"
      },
      "execution_count": 143,
      "outputs": []
    },
    {
      "cell_type": "code",
      "source": [
        "plt.scatter(X_train_principal.iloc[:,0], X_train_principal.iloc[:,1], s = 1 , alpha=1)"
      ],
      "metadata": {
        "colab": {
          "base_uri": "https://localhost:8080/",
          "height": 282
        },
        "id": "j44d0a-1rL0f",
        "outputId": "635dbe86-4258-48e8-e913-5b9a13fbc66c"
      },
      "execution_count": 144,
      "outputs": [
        {
          "output_type": "execute_result",
          "data": {
            "text/plain": [
              "<matplotlib.collections.PathCollection at 0x7fc390ffdb80>"
            ]
          },
          "metadata": {},
          "execution_count": 144
        },
        {
          "output_type": "display_data",
          "data": {
            "text/plain": [
              "<Figure size 432x288 with 1 Axes>"
            ],
            "image/png": "[encoded data removed]"
          },
          "metadata": {
            "needs_background": "light"
          }
        }
      ]
    },
    {
      "cell_type": "code",
      "source": [
        "from sklearn.svm import SVC\n",
        "classifier = SVC(kernel = 'rbf', random_state = 0)\n",
        "classifier.fit(X_train_principal, y_train)"
      ],
      "metadata": {
        "colab": {
          "base_uri": "https://localhost:8080/"
        },
        "id": "XFXl6dVtrZ8N",
        "outputId": "dedf4220-c25f-4d5e-9372-0b617c472569"
      },
      "execution_count": 145,
      "outputs": [
        {
          "output_type": "stream",
          "name": "stderr",
          "text": [
            "/usr/local/lib/python3.8/dist-packages/sklearn/utils/validation.py:993: DataConversionWarning: A column-vector y was passed when a 1d array was expected. Please change the shape of y to (n_samples, ), for example using ravel().\n",
            "  y = column_or_1d(y, warn=True)\n"
          ]
        },
        {
          "output_type": "execute_result",
          "data": {
            "text/plain": [
              "SVC(random_state=0)"
            ]
          },
          "metadata": {},
          "execution_count": 145
        }
      ]
    },
    {
      "cell_type": "code",
      "source": [
        "y_pred = classifier.predict(X_test_principal)\n",
        "from sklearn.metrics import confusion_matrix, accuracy_score, f1_score\n",
        "from sklearn.metrics import precision_recall_fscore_support\n",
        "classifier.score(X_test_principal, y_pred)\n",
        "cm = confusion_matrix(y_test, y_pred)\n",
        "acc = accuracy_score(y_test, y_pred)\n",
        "[prec, rec, f1, n] = precision_recall_fscore_support(y_test, y_pred, average='binary')\n",
        "print('Precision is: ', prec)\n",
        "print('Accuracy is: ', acc)\n",
        "print('Recall is: ', rec)\n",
        "print('F1_Score is: ', f1)"
      ],
      "metadata": {
        "colab": {
          "base_uri": "https://localhost:8080/"
        },
        "id": "zj3aNPQEriuk",
        "outputId": "e57791f9-f2c6-4437-ec3f-047b6d9b3cf6"
      },
      "execution_count": 146,
      "outputs": [
        {
          "output_type": "stream",
          "name": "stdout",
          "text": [
            "Precision is:  1.0\n",
            "Accuracy is:  0.95\n",
            "Recall is:  0.5\n",
            "F1_Score is:  0.6666666666666666\n"
          ]
        }
      ]
    }
  ]
}